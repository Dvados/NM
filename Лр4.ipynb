{
  "nbformat": 4,
  "nbformat_minor": 0,
  "metadata": {
    "colab": {
      "name": "Лр4.ipynb",
      "provenance": [],
      "collapsed_sections": [],
      "authorship_tag": "ABX9TyNlahcTMN7FCILX/Wy1PvaQ",
      "include_colab_link": true
    },
    "kernelspec": {
      "name": "python3",
      "display_name": "Python 3"
    },
    "language_info": {
      "name": "python"
    }
  },
  "cells": [
    {
      "cell_type": "markdown",
      "metadata": {
        "id": "view-in-github",
        "colab_type": "text"
      },
      "source": [
        "<a href=\"https://colab.research.google.com/github/Dvados/NM/blob/main/%D0%9B%D1%804.ipynb\" target=\"_parent\"><img src=\"https://colab.research.google.com/assets/colab-badge.svg\" alt=\"Open In Colab\"/></a>"
      ]
    },
    {
      "cell_type": "markdown",
      "source": [
        "Лабораторна робота №4 студента групи АнД-31 Тищенко Владислава"
      ],
      "metadata": {
        "id": "wkp4T9cS1o67"
      }
    },
    {
      "cell_type": "code",
      "execution_count": 1,
      "metadata": {
        "colab": {
          "base_uri": "https://localhost:8080/"
        },
        "id": "bb4pw37x1oBA",
        "outputId": "59e1b60b-e800-4753-de65-b2a6aae0745b"
      },
      "outputs": [
        {
          "output_type": "stream",
          "name": "stdout",
          "text": [
            "Downloading data from https://storage.googleapis.com/tensorflow/tf-keras-datasets/train-labels-idx1-ubyte.gz\n",
            "32768/29515 [=================================] - 0s 0us/step\n",
            "40960/29515 [=========================================] - 0s 0us/step\n",
            "Downloading data from https://storage.googleapis.com/tensorflow/tf-keras-datasets/train-images-idx3-ubyte.gz\n",
            "26427392/26421880 [==============================] - 0s 0us/step\n",
            "26435584/26421880 [==============================] - 0s 0us/step\n",
            "Downloading data from https://storage.googleapis.com/tensorflow/tf-keras-datasets/t10k-labels-idx1-ubyte.gz\n",
            "16384/5148 [===============================================================================================] - 0s 0us/step\n",
            "Downloading data from https://storage.googleapis.com/tensorflow/tf-keras-datasets/t10k-images-idx3-ubyte.gz\n",
            "4423680/4422102 [==============================] - 0s 0us/step\n",
            "4431872/4422102 [==============================] - 0s 0us/step\n"
          ]
        }
      ],
      "source": [
        "import tensorflow as tf\n",
        "from tensorflow.keras.datasets import fashion_mnist\n",
        "\n",
        "(train_data, train_labels), (test_data, test_labels) = fashion_mnist.load_data()"
      ]
    },
    {
      "cell_type": "code",
      "source": [
        "import numpy as np\n",
        "# 9 2 6\n",
        "classes = ['Sandal','Bag', 'Pullover']\n",
        "\n",
        "myTrain_data = []\n",
        "myTrain_labels = []\n",
        "myTest_data = []\n",
        "myTest_labels  = []\n",
        "\n",
        "for i in range(len(train_labels)):\n",
        "  if (train_labels[i]==6 or train_labels[i]==9 or train_labels[i]==2 ):\n",
        "    myTrain_data.append(train_data[i])\n",
        "    myTrain_labels.append(train_labels[i])\n",
        "\n",
        "for i in range(len(test_labels)):\n",
        "  if (test_labels[i]==6 or test_labels[i]==9 or test_labels[i]==2 ):\n",
        "    myTest_data.append(test_data[i])\n",
        "    myTest_labels.append(test_labels[i])\n",
        "\n",
        "my_train_data = np.array(myTrain_data)\n",
        "my_train_labels = np.array(myTrain_labels)\n",
        "my_test_data= np.array(myTest_data)\n",
        "my_test_labels  = np.array(myTest_labels)"
      ],
      "metadata": {
        "id": "4Dr0I3Dl6h76"
      },
      "execution_count": 2,
      "outputs": []
    },
    {
      "cell_type": "code",
      "source": [
        "# Check the shape of our data and single example\n",
        "print('Shape')\n",
        "print(my_train_data.shape, my_train_labels.shape, my_test_data.shape, my_test_labels.shape)\n",
        "print(my_train_data[0].shape, my_train_labels[0].shape)\n",
        "print('\\nData')\n",
        "print(f\"Training sample:\\n{my_train_data[0]}\\n\")\n",
        "print(f\"Training lables:\\n{my_train_labels[0]}\")"
      ],
      "metadata": {
        "colab": {
          "base_uri": "https://localhost:8080/"
        },
        "id": "sThoLnE06-Bt",
        "outputId": "10f27fca-0e53-47dd-810b-120dbd9d5ba9"
      },
      "execution_count": 3,
      "outputs": [
        {
          "output_type": "stream",
          "name": "stdout",
          "text": [
            "Shape\n",
            "(18000, 28, 28) (18000,) (3000, 28, 28) (3000,)\n",
            "(28, 28) ()\n",
            "\n",
            "Data\n",
            "Training sample:\n",
            "[[  0   0   0   0   0   0   0   0   0   0   0   0   0   0   0   0   0   0\n",
            "    0   0   0   0   0   0   0   0   0   0]\n",
            " [  0   0   0   0   0   0   0   0   0   0   0   0   0   0   0   0   0   0\n",
            "    0   0   0   0   0   0   0   0   0   0]\n",
            " [  0   0   0   0   0   0   0   0   0   0   0   0   0   0   0   0   0   0\n",
            "    0   0   0   0   0   0   0   0   0   0]\n",
            " [  0   0   0   0   0   0   0   0   0   0   0   0   1   0   0  13  73   0\n",
            "    0   1   4   0   0   0   0   1   1   0]\n",
            " [  0   0   0   0   0   0   0   0   0   0   0   0   3   0  36 136 127  62\n",
            "   54   0   0   0   1   3   4   0   0   3]\n",
            " [  0   0   0   0   0   0   0   0   0   0   0   0   6   0 102 204 176 134\n",
            "  144 123  23   0   0   0   0  12  10   0]\n",
            " [  0   0   0   0   0   0   0   0   0   0   0   0   0   0 155 236 207 178\n",
            "  107 156 161 109  64  23  77 130  72  15]\n",
            " [  0   0   0   0   0   0   0   0   0   0   0   1   0  69 207 223 218 216\n",
            "  216 163 127 121 122 146 141  88 172  66]\n",
            " [  0   0   0   0   0   0   0   0   0   1   1   1   0 200 232 232 233 229\n",
            "  223 223 215 213 164 127 123 196 229   0]\n",
            " [  0   0   0   0   0   0   0   0   0   0   0   0   0 183 225 216 223 228\n",
            "  235 227 224 222 224 221 223 245 173   0]\n",
            " [  0   0   0   0   0   0   0   0   0   0   0   0   0 193 228 218 213 198\n",
            "  180 212 210 211 213 223 220 243 202   0]\n",
            " [  0   0   0   0   0   0   0   0   0   1   3   0  12 219 220 212 218 192\n",
            "  169 227 208 218 224 212 226 197 209  52]\n",
            " [  0   0   0   0   0   0   0   0   0   0   6   0  99 244 222 220 218 203\n",
            "  198 221 215 213 222 220 245 119 167  56]\n",
            " [  0   0   0   0   0   0   0   0   0   4   0   0  55 236 228 230 228 240\n",
            "  232 213 218 223 234 217 217 209  92   0]\n",
            " [  0   0   1   4   6   7   2   0   0   0   0   0 237 226 217 223 222 219\n",
            "  222 221 216 223 229 215 218 255  77   0]\n",
            " [  0   3   0   0   0   0   0   0   0  62 145 204 228 207 213 221 218 208\n",
            "  211 218 224 223 219 215 224 244 159   0]\n",
            " [  0   0   0   0  18  44  82 107 189 228 220 222 217 226 200 205 211 230\n",
            "  224 234 176 188 250 248 233 238 215   0]\n",
            " [  0  57 187 208 224 221 224 208 204 214 208 209 200 159 245 193 206 223\n",
            "  255 255 221 234 221 211 220 232 246   0]\n",
            " [  3 202 228 224 221 211 211 214 205 205 205 220 240  80 150 255 229 221\n",
            "  188 154 191 210 204 209 222 228 225   0]\n",
            " [ 98 233 198 210 222 229 229 234 249 220 194 215 217 241  65  73 106 117\n",
            "  168 219 221 215 217 223 223 224 229  29]\n",
            " [ 75 204 212 204 193 205 211 225 216 185 197 206 198 213 240 195 227 245\n",
            "  239 223 218 212 209 222 220 221 230  67]\n",
            " [ 48 203 183 194 213 197 185 190 194 192 202 214 219 221 220 236 225 216\n",
            "  199 206 186 181 177 172 181 205 206 115]\n",
            " [  0 122 219 193 179 171 183 196 204 210 213 207 211 210 200 196 194 191\n",
            "  195 191 198 192 176 156 167 177 210  92]\n",
            " [  0   0  74 189 212 191 175 172 175 181 185 188 189 188 193 198 204 209\n",
            "  210 210 211 188 188 194 192 216 170   0]\n",
            " [  2   0   0   0  66 200 222 237 239 242 246 243 244 221 220 193 191 179\n",
            "  182 182 181 176 166 168  99  58   0   0]\n",
            " [  0   0   0   0   0   0   0  40  61  44  72  41  35   0   0   0   0   0\n",
            "    0   0   0   0   0   0   0   0   0   0]\n",
            " [  0   0   0   0   0   0   0   0   0   0   0   0   0   0   0   0   0   0\n",
            "    0   0   0   0   0   0   0   0   0   0]\n",
            " [  0   0   0   0   0   0   0   0   0   0   0   0   0   0   0   0   0   0\n",
            "    0   0   0   0   0   0   0   0   0   0]]\n",
            "\n",
            "Training lables:\n",
            "9\n"
          ]
        }
      ]
    },
    {
      "cell_type": "code",
      "source": [
        "# Plot multiple random images of fashion MNIST\n",
        "import matplotlib.pyplot as plt\n",
        "import random\n",
        "plt.figure(figsize=(7, 7))\n",
        "for i in range(4):\n",
        "  ax = plt.subplot(2, 2, i + 1)\n",
        "  rand_index = random.choice(range(len(my_train_data)))\n",
        "  plt.imshow(my_train_data[rand_index], cmap=plt.cm.binary)\n",
        "  plt.title(my_train_labels[rand_index])\n",
        "  plt.axis(False)"
      ],
      "metadata": {
        "colab": {
          "base_uri": "https://localhost:8080/",
          "height": 427
        },
        "id": "V8e8pj-j7Ben",
        "outputId": "df33dffc-eeff-4c55-f440-a2f7dad93e7d"
      },
      "execution_count": 4,
      "outputs": [
        {
          "output_type": "display_data",
          "data": {
            "text/plain": [
              "<Figure size 504x504 with 4 Axes>"
            ],
            "image/png": "[encoded data removed]"
          },
          "metadata": {
            "needs_background": "light"
          }
        }
      ]
    },
    {
      "cell_type": "code",
      "source": [
        "# normalize\n",
        "my_train_data = my_train_data / 255.0\n",
        "my_test_data = my_test_data / 255.0"
      ],
      "metadata": {
        "id": "WziMcUMd7Gyw"
      },
      "execution_count": 5,
      "outputs": []
    },
    {
      "cell_type": "code",
      "source": [
        "# creating a model\n",
        "tf.random.set_seed(42)\n",
        "\n",
        "model = tf.keras.Sequential([\n",
        "  tf.keras.layers.Flatten(input_shape=(28, 28)), # input layer (we had to reshape 28x28 to 784)\n",
        "  tf.keras.layers.Dense(4, activation=\"relu\"),\n",
        "  tf.keras.layers.Dense(4, activation=\"relu\"),\n",
        "  tf.keras.layers.Dense(10, activation=\"softmax\") # output shape is 10, activation is softmax\n",
        "])\n",
        "\n",
        "# Compile the model\n",
        "model.compile(loss=tf.keras.losses.SparseCategoricalCrossentropy(),\n",
        "                 optimizer=tf.keras.optimizers.Adam(),\n",
        "                 metrics=[\"accuracy\"])\n",
        "\n",
        "# Create the learning rate callback\n",
        "lr_scheduler = tf.keras.callbacks.LearningRateScheduler(lambda epoch: 1e-3 *10**(epoch/20))\n",
        "\n",
        "find_lr_history = model.fit(my_train_data,\n",
        "                    my_train_labels,\n",
        "                    epochs=40,\n",
        "                    validation_data=(my_test_data, my_test_labels),\n",
        "                    callbacks=[lr_scheduler])\n",
        "\n",
        "lrs = 1e-3 * (10**(np.arange(40)/20))\n",
        "plt.semilogx(lrs, find_lr_history.history[\"loss\"]) \n",
        "plt.xlabel(\"Learning rate\")\n",
        "plt.ylabel(\"Loss\")\n",
        "plt.title(\"Finding the ideal learning rate\");"
      ],
      "metadata": {
        "colab": {
          "base_uri": "https://localhost:8080/",
          "height": 1000
        },
        "id": "Zn4qsQgJ7Ira",
        "outputId": "4eecf277-c526-445f-b8b0-18c372e98082"
      },
      "execution_count": 6,
      "outputs": [
        {
          "output_type": "stream",
          "name": "stdout",
          "text": [
            "Epoch 1/40\n",
            "563/563 [==============================] - 2s 2ms/step - loss: 0.5848 - accuracy: 0.7441 - val_loss: 0.3382 - val_accuracy: 0.8583 - lr: 0.0010\n",
            "Epoch 2/40\n",
            "563/563 [==============================] - 1s 2ms/step - loss: 0.3011 - accuracy: 0.8758 - val_loss: 0.2972 - val_accuracy: 0.8767 - lr: 0.0011\n",
            "Epoch 3/40\n",
            "563/563 [==============================] - 1s 2ms/step - loss: 0.2679 - accuracy: 0.8894 - val_loss: 0.2728 - val_accuracy: 0.8863 - lr: 0.0013\n",
            "Epoch 4/40\n",
            "563/563 [==============================] - 1s 2ms/step - loss: 0.2551 - accuracy: 0.8932 - val_loss: 0.2644 - val_accuracy: 0.8893 - lr: 0.0014\n",
            "Epoch 5/40\n",
            "563/563 [==============================] - 1s 2ms/step - loss: 0.2482 - accuracy: 0.8952 - val_loss: 0.2633 - val_accuracy: 0.8867 - lr: 0.0016\n",
            "Epoch 6/40\n",
            "563/563 [==============================] - 1s 2ms/step - loss: 0.2425 - accuracy: 0.9004 - val_loss: 0.2584 - val_accuracy: 0.8917 - lr: 0.0018\n",
            "Epoch 7/40\n",
            "563/563 [==============================] - 1s 2ms/step - loss: 0.2438 - accuracy: 0.8991 - val_loss: 0.2740 - val_accuracy: 0.8860 - lr: 0.0020\n",
            "Epoch 8/40\n",
            "563/563 [==============================] - 1s 2ms/step - loss: 0.2390 - accuracy: 0.9016 - val_loss: 0.2677 - val_accuracy: 0.8860 - lr: 0.0022\n",
            "Epoch 9/40\n",
            "563/563 [==============================] - 2s 4ms/step - loss: 0.2352 - accuracy: 0.9035 - val_loss: 0.2850 - val_accuracy: 0.8820 - lr: 0.0025\n",
            "Epoch 10/40\n",
            "563/563 [==============================] - 2s 4ms/step - loss: 0.2341 - accuracy: 0.9037 - val_loss: 0.2475 - val_accuracy: 0.8983 - lr: 0.0028\n",
            "Epoch 11/40\n",
            "563/563 [==============================] - 1s 2ms/step - loss: 0.2337 - accuracy: 0.9049 - val_loss: 0.2721 - val_accuracy: 0.8853 - lr: 0.0032\n",
            "Epoch 12/40\n",
            "563/563 [==============================] - 1s 2ms/step - loss: 0.2321 - accuracy: 0.9024 - val_loss: 0.2450 - val_accuracy: 0.9010 - lr: 0.0035\n",
            "Epoch 13/40\n",
            "563/563 [==============================] - 1s 2ms/step - loss: 0.2336 - accuracy: 0.9029 - val_loss: 0.2442 - val_accuracy: 0.8980 - lr: 0.0040\n",
            "Epoch 14/40\n",
            "563/563 [==============================] - 1s 2ms/step - loss: 0.2335 - accuracy: 0.9031 - val_loss: 0.2510 - val_accuracy: 0.8913 - lr: 0.0045\n",
            "Epoch 15/40\n",
            "563/563 [==============================] - 1s 2ms/step - loss: 0.2268 - accuracy: 0.9077 - val_loss: 0.2707 - val_accuracy: 0.8850 - lr: 0.0050\n",
            "Epoch 16/40\n",
            "563/563 [==============================] - 1s 2ms/step - loss: 0.2271 - accuracy: 0.9051 - val_loss: 0.2978 - val_accuracy: 0.8673 - lr: 0.0056\n",
            "Epoch 17/40\n",
            "563/563 [==============================] - 1s 2ms/step - loss: 0.2269 - accuracy: 0.9040 - val_loss: 0.2487 - val_accuracy: 0.8950 - lr: 0.0063\n",
            "Epoch 18/40\n",
            "563/563 [==============================] - 2s 3ms/step - loss: 0.2202 - accuracy: 0.9087 - val_loss: 0.2311 - val_accuracy: 0.9003 - lr: 0.0071\n",
            "Epoch 19/40\n",
            "563/563 [==============================] - 1s 2ms/step - loss: 0.2237 - accuracy: 0.9052 - val_loss: 0.2390 - val_accuracy: 0.8983 - lr: 0.0079\n",
            "Epoch 20/40\n",
            "563/563 [==============================] - 1s 2ms/step - loss: 0.2171 - accuracy: 0.9083 - val_loss: 0.2751 - val_accuracy: 0.8810 - lr: 0.0089\n",
            "Epoch 21/40\n",
            "563/563 [==============================] - 1s 2ms/step - loss: 0.2113 - accuracy: 0.9097 - val_loss: 0.2283 - val_accuracy: 0.9013 - lr: 0.0100\n",
            "Epoch 22/40\n",
            "563/563 [==============================] - 1s 2ms/step - loss: 0.2115 - accuracy: 0.9091 - val_loss: 0.2443 - val_accuracy: 0.8990 - lr: 0.0112\n",
            "Epoch 23/40\n",
            "563/563 [==============================] - 1s 2ms/step - loss: 0.2101 - accuracy: 0.9098 - val_loss: 0.2287 - val_accuracy: 0.9017 - lr: 0.0126\n",
            "Epoch 24/40\n",
            "563/563 [==============================] - 1s 2ms/step - loss: 0.2142 - accuracy: 0.9087 - val_loss: 0.2382 - val_accuracy: 0.9013 - lr: 0.0141\n",
            "Epoch 25/40\n",
            "563/563 [==============================] - 1s 2ms/step - loss: 0.2210 - accuracy: 0.9070 - val_loss: 0.2427 - val_accuracy: 0.8977 - lr: 0.0158\n",
            "Epoch 26/40\n",
            "563/563 [==============================] - 1s 3ms/step - loss: 0.2147 - accuracy: 0.9093 - val_loss: 0.3152 - val_accuracy: 0.8620 - lr: 0.0178\n",
            "Epoch 27/40\n",
            "563/563 [==============================] - 2s 4ms/step - loss: 0.2122 - accuracy: 0.9111 - val_loss: 0.2549 - val_accuracy: 0.8987 - lr: 0.0200\n",
            "Epoch 28/40\n",
            "563/563 [==============================] - 2s 4ms/step - loss: 0.2330 - accuracy: 0.9037 - val_loss: 0.2395 - val_accuracy: 0.8940 - lr: 0.0224\n",
            "Epoch 29/40\n",
            "563/563 [==============================] - 2s 3ms/step - loss: 0.2196 - accuracy: 0.9076 - val_loss: 0.2420 - val_accuracy: 0.9003 - lr: 0.0251\n",
            "Epoch 30/40\n",
            "563/563 [==============================] - 1s 2ms/step - loss: 0.2145 - accuracy: 0.9106 - val_loss: 0.3236 - val_accuracy: 0.8513 - lr: 0.0282\n",
            "Epoch 31/40\n",
            "563/563 [==============================] - 1s 2ms/step - loss: 0.2293 - accuracy: 0.9051 - val_loss: 0.2424 - val_accuracy: 0.9007 - lr: 0.0316\n",
            "Epoch 32/40\n",
            "563/563 [==============================] - 1s 2ms/step - loss: 0.2337 - accuracy: 0.9058 - val_loss: 0.2417 - val_accuracy: 0.9053 - lr: 0.0355\n",
            "Epoch 33/40\n",
            "563/563 [==============================] - 1s 2ms/step - loss: 0.2331 - accuracy: 0.9066 - val_loss: 0.2333 - val_accuracy: 0.9053 - lr: 0.0398\n",
            "Epoch 34/40\n",
            "563/563 [==============================] - 1s 3ms/step - loss: 0.2239 - accuracy: 0.9105 - val_loss: 0.2494 - val_accuracy: 0.9043 - lr: 0.0447\n",
            "Epoch 35/40\n",
            "563/563 [==============================] - 2s 4ms/step - loss: 0.2422 - accuracy: 0.8996 - val_loss: 0.3015 - val_accuracy: 0.8997 - lr: 0.0501\n",
            "Epoch 36/40\n",
            "563/563 [==============================] - 1s 2ms/step - loss: 0.2778 - accuracy: 0.8929 - val_loss: 0.2715 - val_accuracy: 0.8893 - lr: 0.0562\n",
            "Epoch 37/40\n",
            "563/563 [==============================] - 1s 2ms/step - loss: 0.2609 - accuracy: 0.8982 - val_loss: 0.3249 - val_accuracy: 0.8530 - lr: 0.0631\n",
            "Epoch 38/40\n",
            "563/563 [==============================] - 1s 2ms/step - loss: 0.2857 - accuracy: 0.8842 - val_loss: 0.3115 - val_accuracy: 0.8950 - lr: 0.0708\n",
            "Epoch 39/40\n",
            "563/563 [==============================] - 1s 2ms/step - loss: 0.2702 - accuracy: 0.8919 - val_loss: 0.2898 - val_accuracy: 0.9047 - lr: 0.0794\n",
            "Epoch 40/40\n",
            "563/563 [==============================] - 1s 2ms/step - loss: 0.3521 - accuracy: 0.8793 - val_loss: 0.2701 - val_accuracy: 0.8967 - lr: 0.0891\n"
          ]
        },
        {
          "output_type": "display_data",
          "data": {
            "text/plain": [
              "<Figure size 432x288 with 1 Axes>"
            ],
            "image/png": "[encoded data removed]"
          },
          "metadata": {
            "needs_background": "light"
          }
        }
      ]
    },
    {
      "cell_type": "code",
      "source": [
        "model = tf.keras.Sequential([\n",
        "  tf.keras.layers.Flatten(input_shape=(28, 28)),\n",
        "  tf.keras.layers.Dense(4, activation=\"relu\"),\n",
        "  tf.keras.layers.Dense(4, activation=\"relu\"),\n",
        "  tf.keras.layers.Dense(10, activation=\"softmax\")\n",
        "])\n",
        "\n",
        "# Compile the model\n",
        "model.compile(loss=tf.keras.losses.SparseCategoricalCrossentropy(),\n",
        "                 optimizer=tf.keras.optimizers.Adam(lr=0.0071),\n",
        "                 metrics=[\"accuracy\"])\n",
        "\n",
        "\n",
        "find_lr_history = model.fit(my_train_data,\n",
        "                    my_train_labels,\n",
        "                    epochs=20,\n",
        "                    validation_data=(my_test_data, my_test_labels))"
      ],
      "metadata": {
        "colab": {
          "base_uri": "https://localhost:8080/"
        },
        "id": "RRpJ51M07P5Y",
        "outputId": "255de9bb-8782-4a32-f5da-fda254c333d1"
      },
      "execution_count": 7,
      "outputs": [
        {
          "output_type": "stream",
          "name": "stdout",
          "text": [
            "Epoch 1/20\n"
          ]
        },
        {
          "output_type": "stream",
          "name": "stderr",
          "text": [
            "/usr/local/lib/python3.7/dist-packages/keras/optimizer_v2/adam.py:105: UserWarning: The `lr` argument is deprecated, use `learning_rate` instead.\n",
            "  super(Adam, self).__init__(name, **kwargs)\n"
          ]
        },
        {
          "output_type": "stream",
          "name": "stdout",
          "text": [
            "563/563 [==============================] - 2s 2ms/step - loss: 0.6102 - accuracy: 0.7584 - val_loss: 0.3757 - val_accuracy: 0.8460\n",
            "Epoch 2/20\n",
            "563/563 [==============================] - 1s 2ms/step - loss: 0.3595 - accuracy: 0.8360 - val_loss: 0.3490 - val_accuracy: 0.8663\n",
            "Epoch 3/20\n",
            "563/563 [==============================] - 1s 2ms/step - loss: 0.3264 - accuracy: 0.8596 - val_loss: 0.3635 - val_accuracy: 0.8647\n",
            "Epoch 4/20\n",
            "563/563 [==============================] - 1s 2ms/step - loss: 0.3146 - accuracy: 0.8638 - val_loss: 0.3847 - val_accuracy: 0.8403\n",
            "Epoch 5/20\n",
            "563/563 [==============================] - 1s 2ms/step - loss: 0.3008 - accuracy: 0.8709 - val_loss: 0.4013 - val_accuracy: 0.8407\n",
            "Epoch 6/20\n",
            "563/563 [==============================] - 1s 2ms/step - loss: 0.3020 - accuracy: 0.8723 - val_loss: 0.3449 - val_accuracy: 0.8737\n",
            "Epoch 7/20\n",
            "563/563 [==============================] - 1s 2ms/step - loss: 0.2970 - accuracy: 0.8759 - val_loss: 0.3387 - val_accuracy: 0.8763\n",
            "Epoch 8/20\n",
            "563/563 [==============================] - 1s 2ms/step - loss: 0.2931 - accuracy: 0.8768 - val_loss: 0.3338 - val_accuracy: 0.8773\n",
            "Epoch 9/20\n",
            "563/563 [==============================] - 1s 2ms/step - loss: 0.2756 - accuracy: 0.8857 - val_loss: 0.3693 - val_accuracy: 0.8650\n",
            "Epoch 10/20\n",
            "563/563 [==============================] - 1s 2ms/step - loss: 0.2829 - accuracy: 0.8819 - val_loss: 0.3190 - val_accuracy: 0.8833\n",
            "Epoch 11/20\n",
            "563/563 [==============================] - 1s 2ms/step - loss: 0.2783 - accuracy: 0.8862 - val_loss: 0.3692 - val_accuracy: 0.8597\n",
            "Epoch 12/20\n",
            "563/563 [==============================] - 1s 2ms/step - loss: 0.2830 - accuracy: 0.8834 - val_loss: 0.3246 - val_accuracy: 0.8887\n",
            "Epoch 13/20\n",
            "563/563 [==============================] - 1s 2ms/step - loss: 0.2716 - accuracy: 0.8896 - val_loss: 0.3370 - val_accuracy: 0.8717\n",
            "Epoch 14/20\n",
            "563/563 [==============================] - 1s 2ms/step - loss: 0.2821 - accuracy: 0.8848 - val_loss: 0.3275 - val_accuracy: 0.8833\n",
            "Epoch 15/20\n",
            "563/563 [==============================] - 1s 2ms/step - loss: 0.2673 - accuracy: 0.8900 - val_loss: 0.3803 - val_accuracy: 0.8633\n",
            "Epoch 16/20\n",
            "563/563 [==============================] - 1s 2ms/step - loss: 0.2671 - accuracy: 0.8916 - val_loss: 0.3576 - val_accuracy: 0.8657\n",
            "Epoch 17/20\n",
            "563/563 [==============================] - 1s 2ms/step - loss: 0.2722 - accuracy: 0.8866 - val_loss: 0.3633 - val_accuracy: 0.8630\n",
            "Epoch 18/20\n",
            "563/563 [==============================] - 1s 2ms/step - loss: 0.2621 - accuracy: 0.8918 - val_loss: 0.3488 - val_accuracy: 0.8673\n",
            "Epoch 19/20\n",
            "563/563 [==============================] - 1s 2ms/step - loss: 0.2704 - accuracy: 0.8884 - val_loss: 0.3166 - val_accuracy: 0.8837\n",
            "Epoch 20/20\n",
            "563/563 [==============================] - 1s 2ms/step - loss: 0.2613 - accuracy: 0.8938 - val_loss: 0.3382 - val_accuracy: 0.8750\n"
          ]
        }
      ]
    },
    {
      "cell_type": "code",
      "source": [
        "from sklearn.metrics import confusion_matrix\n",
        "# Make predictions with model\n",
        "y_probs = model.predict(my_test_data) \n",
        "y_preds = y_probs.argmax(axis=1)\n",
        "\n",
        "# View the first 10 prediction labels\n",
        "print(y_preds[:10])\n",
        "\n",
        "confusion_matrix(y_true=my_test_labels, \n",
        "                 y_pred=y_preds)"
      ],
      "metadata": {
        "colab": {
          "base_uri": "https://localhost:8080/"
        },
        "id": "6mTq50LM7TEP",
        "outputId": "d87e79bf-4b41-4c39-d415-3ae258f2ac32"
      },
      "execution_count": 8,
      "outputs": [
        {
          "output_type": "stream",
          "name": "stdout",
          "text": [
            "[9 2 6 6 2 2 9 6 9 9]\n"
          ]
        },
        {
          "output_type": "execute_result",
          "data": {
            "text/plain": [
              "array([[895,  91,  14],\n",
              "       [264, 734,   2],\n",
              "       [  3,   1, 996]])"
            ]
          },
          "metadata": {},
          "execution_count": 8
        }
      ]
    }
  ]
}